{
 "cells": [
  {
   "cell_type": "markdown",
   "metadata": {},
   "source": [
    "## Przydatne funkcje"
   ]
  },
  {
   "cell_type": "markdown",
   "metadata": {},
   "source": [
    "### Systemy liczbowe"
   ]
  },
  {
   "cell_type": "markdown",
   "metadata": {},
   "source": [
    "Zliczanie jedynek w zapisie binarnym liczby"
   ]
  },
  {
   "cell_type": "code",
   "execution_count": 119,
   "metadata": {},
   "outputs": [],
   "source": [
    "def count_bin_ones(n: int) -> int:\n",
    "    count = 0\n",
    "    while n:\n",
    "        n, digit = divmod(n, 2)\n",
    "        count += digit\n",
    "    return count"
   ]
  },
  {
   "cell_type": "code",
   "execution_count": 120,
   "metadata": {},
   "outputs": [
    {
     "data": {
      "text/plain": [
       "21"
      ]
     },
     "execution_count": 120,
     "metadata": {},
     "output_type": "execute_result"
    }
   ],
   "source": [
    "count_bin_ones(6787687686876)"
   ]
  },
  {
   "cell_type": "markdown",
   "metadata": {},
   "source": [
    "Konwersja liczb naturalnych z systemu dziesiętnego na wskazany"
   ]
  },
  {
   "cell_type": "code",
   "execution_count": 121,
   "metadata": {},
   "outputs": [],
   "source": [
    "def to_base_init() -> \"'to_base' function\":\n",
    "    digit_string = '0123456789abcdefghijklmnopqrstuvwxyz'\n",
    "\n",
    "    def to_base(num: int, base: int) -> str:\n",
    "        if not 2 <= base <= 36:\n",
    "            raise ValueError(f'Wrong base passed. Expected integer from range 2 to 36, got {base}.)')\n",
    "\n",
    "        digits = []\n",
    "        while num:\n",
    "            num, digit = divmod(num, base)\n",
    "            digits.append(digit_string[digit])\n",
    "        return ''.join(digits[::-1]) or '0'\n",
    "\n",
    "    return to_base\n",
    "\n",
    "\n",
    "to_base = to_base_init()"
   ]
  },
  {
   "cell_type": "code",
   "execution_count": 122,
   "metadata": {},
   "outputs": [
    {
     "data": {
      "text/plain": [
       "'345d6r'"
      ]
     },
     "execution_count": 122,
     "metadata": {},
     "output_type": "execute_result"
    }
   ],
   "source": [
    "to_base(89743198, 31)"
   ]
  },
  {
   "cell_type": "markdown",
   "metadata": {},
   "source": [
    "Konwersja liczb naturalnych z systemu dziesiętnego na LICZBĘ w systemie od 2 do 10"
   ]
  },
  {
   "cell_type": "code",
   "execution_count": 123,
   "metadata": {},
   "outputs": [],
   "source": [
    "def to_base(num: int, base: int) -> int:\n",
    "    if not 2 <= base <= 10:\n",
    "        raise ValueError(f\"Cannot convert number to base {base}. Supported bases: 2-10.\")\n",
    "    if base == 10:\n",
    "        return num\n",
    "    \n",
    "    result = 0\n",
    "    mul = 1\n",
    "    while num:\n",
    "        num, digit = divmod(num, base)\n",
    "        result += mul * digit\n",
    "        mul *= 10\n",
    "    return result"
   ]
  },
  {
   "cell_type": "code",
   "execution_count": 124,
   "metadata": {},
   "outputs": [
    {
     "name": "stdout",
     "output_type": "stream",
     "text": [
      "16211\n"
     ]
    }
   ],
   "source": [
    "print(to_base(4565, 7))"
   ]
  },
  {
   "cell_type": "markdown",
   "metadata": {},
   "source": [
    "Konwersja liczb zmiennoprzecinkowych na system binarny"
   ]
  },
  {
   "cell_type": "code",
   "execution_count": 125,
   "metadata": {},
   "outputs": [],
   "source": [
    "def to_bin(n: int) -> str:\n",
    "\tdgts = []\n",
    "\twhile n:\n",
    "\t\tn, dgt = divmod(n, 2)\n",
    "\t\tdgts.append(dgt)\n",
    "\treturn ''.join(str(n) for n in dgts[::-1])\n",
    "\n",
    "\n",
    "def to_bin_float(n: float) -> (str, str):\n",
    "    # We make use of the limited Pythons's precision of floats and iterate till the remainder is not equal to zero.\n",
    "\tfixed_point = int(n // 1)\n",
    "\tfixed_point_bin = to_bin(fixed_point)\n",
    "\tn -= fixed_point\n",
    "\tfloating_point = []\n",
    "\twhile n:\n",
    "\t\tdgt, n = divmod(n*2, 1)\n",
    "\t\tfloating_point.append(str(int(dgt)))\n",
    "\treturn fixed_point, ''.join(floating_point)"
   ]
  },
  {
   "cell_type": "code",
   "execution_count": 126,
   "metadata": {},
   "outputs": [
    {
     "data": {
      "text/plain": [
       "(0, '0001100110011001100110011001100110011001100110011001101')"
      ]
     },
     "execution_count": 126,
     "metadata": {},
     "output_type": "execute_result"
    }
   ],
   "source": [
    "to_bin_float(.1)"
   ]
  },
  {
   "cell_type": "markdown",
   "metadata": {},
   "source": [
    "Konwersja liczby ze wskazanego systemu liczbowego na dziesiętny"
   ]
  },
  {
   "cell_type": "code",
   "execution_count": 127,
   "metadata": {},
   "outputs": [],
   "source": [
    "def to_decimal_init() -> \"'to_base' function\":\n",
    "\tdigits_dict = {digit: value for value, digit in enumerate('0123456789abcdefghijklmnopqrstuvwxyz')}\n",
    "\n",
    "\tdef to_decimal(num: str, base: int) -> int:\n",
    "\t\tif not 2 <= base <= 36:\n",
    "\t\t\traise ValueError(f'Wrong base passed. Expected integer from range 2 to 36, got {base}.)')\n",
    "\n",
    "\t\tresult = 0\n",
    "\t\tnum = num.lower()\n",
    "\t\tfor power in range(len(num)):\n",
    "\t\t\tdigit = num[-power-1]\n",
    "\t\t\tresult += digits_dict[digit] * base ** power\n",
    "\t\treturn result\n",
    "\n",
    "\treturn to_decimal\n",
    "\n",
    "\n",
    "to_decimal = to_decimal_init()"
   ]
  },
  {
   "cell_type": "code",
   "execution_count": 128,
   "metadata": {},
   "outputs": [
    {
     "data": {
      "text/plain": [
       "(769, 27375932, 4779432462672532216566)"
      ]
     },
     "execution_count": 128,
     "metadata": {},
     "output_type": "execute_result"
    }
   ],
   "source": [
    "to_decimal('xa', 23), to_decimal('GaReK', 36), to_decimal('PythonIsAwesome', 28)"
   ]
  },
  {
   "cell_type": "markdown",
   "metadata": {},
   "source": [
    "### Obliczanie silni"
   ]
  },
  {
   "cell_type": "markdown",
   "metadata": {},
   "source": [
    "Oblicznie silni (iteracyjnie)"
   ]
  },
  {
   "cell_type": "code",
   "execution_count": 129,
   "metadata": {},
   "outputs": [],
   "source": [
    "def factorial(n: int) -> int:\n",
    "    if n < 0:\n",
    "        raise ValueError('Cannot calculate factorial of negative numbers')\n",
    "        \n",
    "    res = 1\n",
    "    for i in range(2, n+1):\n",
    "        res *= i\n",
    "    return res"
   ]
  },
  {
   "cell_type": "code",
   "execution_count": 130,
   "metadata": {},
   "outputs": [
    {
     "data": {
      "text/plain": [
       "120"
      ]
     },
     "execution_count": 130,
     "metadata": {},
     "output_type": "execute_result"
    }
   ],
   "source": [
    "factorial(5)"
   ]
  },
  {
   "cell_type": "markdown",
   "metadata": {},
   "source": [
    "Obliczanie silni (rekurencyjnie)"
   ]
  },
  {
   "cell_type": "code",
   "execution_count": 131,
   "metadata": {},
   "outputs": [],
   "source": [
    "def factorial(n: int) -> int:\n",
    "    return 1 if n <= 1 else n * factorial(n-1)"
   ]
  },
  {
   "cell_type": "code",
   "execution_count": 132,
   "metadata": {},
   "outputs": [
    {
     "data": {
      "text/plain": [
       "5040"
      ]
     },
     "execution_count": 132,
     "metadata": {},
     "output_type": "execute_result"
    }
   ],
   "source": [
    "factorial(7)"
   ]
  },
  {
   "cell_type": "markdown",
   "metadata": {},
   "source": [
    "Obliczanie silni (rekurencyjnie z cachowaniem wartości z użyciem słownika)"
   ]
  },
  {
   "cell_type": "code",
   "execution_count": 133,
   "metadata": {},
   "outputs": [],
   "source": [
    "def factorial(n: int, *, cache={}) -> int:\n",
    "    if n <= 1:\n",
    "        return 1\n",
    "    if n not in cache:\n",
    "        cache[n] = n * factorial(n-1, cache=cache)\n",
    "        print(cache)  # REMOVE ME\n",
    "    return cache[n]"
   ]
  },
  {
   "cell_type": "code",
   "execution_count": 134,
   "metadata": {},
   "outputs": [
    {
     "name": "stdout",
     "output_type": "stream",
     "text": [
      "{2: 2}\n",
      "{2: 2, 3: 6}\n",
      "{2: 2, 3: 6, 4: 24}\n",
      "{2: 2, 3: 6, 4: 24, 5: 120}\n",
      "{2: 2, 3: 6, 4: 24, 5: 120, 6: 720}\n",
      "{2: 2, 3: 6, 4: 24, 5: 120, 6: 720, 7: 5040}\n",
      "{2: 2, 3: 6, 4: 24, 5: 120, 6: 720, 7: 5040, 8: 40320}\n",
      "{2: 2, 3: 6, 4: 24, 5: 120, 6: 720, 7: 5040, 8: 40320, 9: 362880}\n",
      "{2: 2, 3: 6, 4: 24, 5: 120, 6: 720, 7: 5040, 8: 40320, 9: 362880, 10: 3628800}\n",
      "3628800\n",
      "{2: 2, 3: 6, 4: 24, 5: 120, 6: 720, 7: 5040, 8: 40320, 9: 362880, 10: 3628800, 11: 39916800}\n",
      "{2: 2, 3: 6, 4: 24, 5: 120, 6: 720, 7: 5040, 8: 40320, 9: 362880, 10: 3628800, 11: 39916800, 12: 479001600}\n",
      "{2: 2, 3: 6, 4: 24, 5: 120, 6: 720, 7: 5040, 8: 40320, 9: 362880, 10: 3628800, 11: 39916800, 12: 479001600, 13: 6227020800}\n",
      "{2: 2, 3: 6, 4: 24, 5: 120, 6: 720, 7: 5040, 8: 40320, 9: 362880, 10: 3628800, 11: 39916800, 12: 479001600, 13: 6227020800, 14: 87178291200}\n",
      "{2: 2, 3: 6, 4: 24, 5: 120, 6: 720, 7: 5040, 8: 40320, 9: 362880, 10: 3628800, 11: 39916800, 12: 479001600, 13: 6227020800, 14: 87178291200, 15: 1307674368000}\n",
      "1307674368000\n",
      "40320\n"
     ]
    }
   ],
   "source": [
    "print(factorial(10))\n",
    "print(factorial(15))\n",
    "print(factorial(8))  # No more calculations required as we have already calculated 8!"
   ]
  },
  {
   "cell_type": "markdown",
   "metadata": {},
   "source": [
    "Obliczanie silni (rekurencyjnie z cachowaniem wartości z użyciem dekoratora)"
   ]
  },
  {
   "cell_type": "code",
   "execution_count": 135,
   "metadata": {},
   "outputs": [],
   "source": [
    "def memoized(fn):\n",
    "    cache = {}  # Cached values will be stored here\n",
    "    \n",
    "    def inner(arg):\n",
    "        if arg not in cache:\n",
    "            cache[arg] = fn(arg)\n",
    "        return cache[arg]\n",
    "    \n",
    "    return inner\n",
    "\n",
    "\n",
    "@memoized\n",
    "def factorial(n: int) -> int:\n",
    "    return 1 if n <= 1 else n * factorial(n-1)"
   ]
  },
  {
   "cell_type": "code",
   "execution_count": 136,
   "metadata": {},
   "outputs": [
    {
     "data": {
      "text/plain": [
       "30414093201713378043612608166064768844377641568960512000000000000"
      ]
     },
     "execution_count": 136,
     "metadata": {},
     "output_type": "execute_result"
    }
   ],
   "source": [
    "factorial(50)"
   ]
  },
  {
   "cell_type": "markdown",
   "metadata": {},
   "source": [
    "Ostatnia niezerowa cyfra silni"
   ]
  },
  {
   "cell_type": "code",
   "execution_count": 137,
   "metadata": {},
   "outputs": [],
   "source": [
    "def last_non_zero_factorial_digit_init():\n",
    "    last_factorials_digits = 1, 2, 6, 4\n",
    "    last_pow2_digits = 2, 4, 8, 6\n",
    "\n",
    "    def last_non_zero_factorial_digit(num: int) -> int:\n",
    "        if num < 5:\n",
    "            return last_factorials_digits[max(num-1, 0)]\n",
    "\n",
    "        remainder = num//5\n",
    "        pow2 = last_pow2_digits[remainder % 4 - 1]\n",
    "        mul = 1\n",
    "        for n in range(remainder*5+1, num+1):\n",
    "            mul = (mul * n) % 10\n",
    "\n",
    "        return (last_non_zero_factorial_digit(remainder) * pow2 * mul) % 10\n",
    "\n",
    "    return last_non_zero_factorial_digit\n",
    "\n",
    "\n",
    "last_non_zero_factorial_digit = last_non_zero_factorial_digit_init()"
   ]
  },
  {
   "cell_type": "code",
   "execution_count": 138,
   "metadata": {},
   "outputs": [
    {
     "data": {
      "text/plain": [
       "4"
      ]
     },
     "execution_count": 138,
     "metadata": {},
     "output_type": "execute_result"
    }
   ],
   "source": [
    "last_non_zero_factorial_digit(38712974173298231209412)"
   ]
  },
  {
   "cell_type": "markdown",
   "metadata": {},
   "source": [
    "### Ciąg Fibonacciego"
   ]
  },
  {
   "cell_type": "markdown",
   "metadata": {},
   "source": [
    "Szybkie obliczanie wyrazów ciagu Fibonacciego"
   ]
  },
  {
   "cell_type": "code",
   "execution_count": 139,
   "metadata": {},
   "outputs": [],
   "source": [
    "from math import sqrt\n",
    "\n",
    "def fib_init():\n",
    "\tsqrt_5 = sqrt(5)\n",
    "\tmul = 1 / sqrt_5\n",
    "\ta = (1+sqrt_5)/2\n",
    "\tb = (1-sqrt_5)/2\n",
    "    \n",
    "\tdef fib(n):\n",
    "\t\treturn int(mul*(a**n - b**n))\n",
    "    \n",
    "\treturn fib\n",
    "\n",
    "\n",
    "fib = fib_init()"
   ]
  },
  {
   "cell_type": "code",
   "execution_count": 140,
   "metadata": {},
   "outputs": [
    {
     "data": {
      "text/plain": [
       "55"
      ]
     },
     "execution_count": 140,
     "metadata": {},
     "output_type": "execute_result"
    }
   ],
   "source": [
    "fib(10)"
   ]
  },
  {
   "cell_type": "markdown",
   "metadata": {},
   "source": [
    "Obliczanie wskazanej liczby początkowych wyrazów ciągu Fibonacciego"
   ]
  },
  {
   "cell_type": "code",
   "execution_count": 141,
   "metadata": {},
   "outputs": [],
   "source": [
    "def fibs(n: int) -> list:\n",
    "    values = [1, 1]\n",
    "    if n <= 0:\n",
    "        return []\n",
    "    if n == 1:\n",
    "        return [1]\n",
    "    if n == 2:\n",
    "        return values\n",
    "\n",
    "    for _ in range(n-2):\n",
    "        values.append(values[-1] + values[-2])\n",
    "\n",
    "    return values"
   ]
  },
  {
   "cell_type": "code",
   "execution_count": 142,
   "metadata": {},
   "outputs": [
    {
     "data": {
      "text/plain": [
       "[1, 1, 2, 3, 5, 8, 13, 21, 34, 55]"
      ]
     },
     "execution_count": 142,
     "metadata": {},
     "output_type": "execute_result"
    }
   ],
   "source": [
    "fibs(10)"
   ]
  },
  {
   "cell_type": "markdown",
   "metadata": {},
   "source": [
    "Obliczanie kolejnych wyrazów ciągu Fibonacciego nie większych niż przekazany"
   ]
  },
  {
   "cell_type": "code",
   "execution_count": 143,
   "metadata": {},
   "outputs": [],
   "source": [
    "def fibs_2(max_num: int) -> list:\n",
    "    if max_num <= 0:\n",
    "        return []\n",
    "\n",
    "    values = [1, 1]\n",
    "    while True:\n",
    "        new_fib = values[-1] + values[-2]\n",
    "        if new_fib > max_num:\n",
    "            break\n",
    "        values.append(new_fib)\n",
    "\n",
    "    return values"
   ]
  },
  {
   "cell_type": "code",
   "execution_count": 144,
   "metadata": {},
   "outputs": [
    {
     "data": {
      "text/plain": [
       "[1, 1, 2, 3, 5, 8, 13, 21, 34, 55, 89]"
      ]
     },
     "execution_count": 144,
     "metadata": {},
     "output_type": "execute_result"
    }
   ],
   "source": [
    "fibs_2(100)"
   ]
  },
  {
   "cell_type": "markdown",
   "metadata": {},
   "source": [
    "Wyznaczanie następnej liczby większej od podanej, której nie jest sumą spójnego podciągu Fibonacciego"
   ]
  },
  {
   "cell_type": "code",
   "execution_count": 145,
   "metadata": {},
   "outputs": [],
   "source": [
    "def generate_fibs(bound: int) -> list:\n",
    "    fibs = [1, 1]\n",
    "    while fibs[-1] < bound:\n",
    "        fibs.append(fibs[-1] + fibs[-2])\n",
    "    return fibs\n",
    "\n",
    "\n",
    "def get_next_matching_num(num: int) -> int:\n",
    "    fibs = generate_fibs(num)\n",
    "    while True:\n",
    "        i, j = 0, 1\n",
    "        curr_sum = fibs[0]\n",
    "        num += 1\n",
    "\n",
    "        if num > fibs[-1]:\n",
    "            fibs.append(fibs[-1] + fibs[-2])\n",
    "\n",
    "        while i < j < len(fibs):\n",
    "            if curr_sum == num:\n",
    "                break\n",
    "            if curr_sum < num:\n",
    "                curr_sum += fibs[j]\n",
    "                j += 1\n",
    "            else:\n",
    "                curr_sum -= fibs[i]\n",
    "                i += 1\n",
    "        else:\n",
    "            return num"
   ]
  },
  {
   "cell_type": "code",
   "execution_count": 146,
   "metadata": {},
   "outputs": [
    {
     "data": {
      "text/plain": [
       "14"
      ]
     },
     "execution_count": 146,
     "metadata": {},
     "output_type": "execute_result"
    }
   ],
   "source": [
    "get_next_matching_num(10)"
   ]
  },
  {
   "cell_type": "markdown",
   "metadata": {},
   "source": [
    "### Liczby pierwsze"
   ]
  },
  {
   "cell_type": "markdown",
   "metadata": {},
   "source": [
    "Prosty algorytm na sprawdzanie, czy liczba naturalna jest pierwsza"
   ]
  },
  {
   "cell_type": "code",
   "execution_count": 147,
   "metadata": {},
   "outputs": [],
   "source": [
    "from math import sqrt\n",
    "\n",
    "\n",
    "def is_prime(num: int) -> bool:\n",
    "    if num in {2, 3}:\n",
    "        return True\n",
    "    if not num % 2 or not num % 3 or num < 2:\n",
    "        return False\n",
    "\n",
    "    for div in range(5, int(sqrt(num))+1, 6):\n",
    "        if not num % div or not num % (div + 2):\n",
    "            return False\n",
    "    return True"
   ]
  },
  {
   "cell_type": "code",
   "execution_count": 148,
   "metadata": {},
   "outputs": [
    {
     "data": {
      "text/plain": [
       "True"
      ]
     },
     "execution_count": 148,
     "metadata": {},
     "output_type": "execute_result"
    }
   ],
   "source": [
    "is_prime(137)"
   ]
  },
  {
   "cell_type": "markdown",
   "metadata": {},
   "source": [
    "Algorytm do generowania liczb pierwszych nie większych niż wskazana"
   ]
  },
  {
   "cell_type": "code",
   "execution_count": 149,
   "metadata": {},
   "outputs": [],
   "source": [
    "def sieve_of_eratosthenes(n: int) -> list:\n",
    "    primes = []\n",
    "    to_skip = set()\n",
    "\n",
    "    for val in range(2, n+1):\n",
    "        if val not in to_skip:\n",
    "            primes.append(val)\n",
    "            to_skip.update(range(val*val, n+1, val))\n",
    "\n",
    "    return primes"
   ]
  },
  {
   "cell_type": "code",
   "execution_count": 150,
   "metadata": {},
   "outputs": [
    {
     "data": {
      "text/plain": [
       "[2, 3, 5, 7, 11, 13, 17, 19, 23, 29, 31, 37, 41, 43, 47, 53, 59, 61, 67, 71]"
      ]
     },
     "execution_count": 150,
     "metadata": {},
     "output_type": "execute_result"
    }
   ],
   "source": [
    "sieve_of_eratosthenes(71)"
   ]
  },
  {
   "cell_type": "markdown",
   "metadata": {},
   "source": [
    "### Liczby względnie pierwsze"
   ]
  },
  {
   "cell_type": "code",
   "execution_count": 151,
   "metadata": {},
   "outputs": [],
   "source": [
    "def gcd(a, b):\n",
    "    return a if not b else gcd(b, a%b)\n",
    "\n",
    "\n",
    "def are_relative_primes(a, b):\n",
    "    return gcd(abs(a), abs(b)) == 1"
   ]
  },
  {
   "cell_type": "code",
   "execution_count": 152,
   "metadata": {},
   "outputs": [
    {
     "data": {
      "text/plain": [
       "True"
      ]
     },
     "execution_count": 152,
     "metadata": {},
     "output_type": "execute_result"
    }
   ],
   "source": [
    "are_relative_primes(-123, 55)"
   ]
  },
  {
   "cell_type": "markdown",
   "metadata": {},
   "source": [
    "### Liczby złożone"
   ]
  },
  {
   "cell_type": "markdown",
   "metadata": {},
   "source": [
    "Sprawdzanie, czy liczba jest złożona"
   ]
  },
  {
   "cell_type": "code",
   "execution_count": 153,
   "metadata": {},
   "outputs": [],
   "source": [
    "from math import sqrt\n",
    "\n",
    "\n",
    "def is_composite(num: int) -> bool:\n",
    "    if num < 4:\n",
    "        return False\n",
    "    if not num % 2 or not num % 3:\n",
    "        return True\n",
    "\n",
    "    for div in range(5, int(sqrt(num))+1, 6):\n",
    "        if not num % div or not num % (div + 2):\n",
    "            return True\n",
    "    return False"
   ]
  },
  {
   "cell_type": "code",
   "execution_count": 154,
   "metadata": {},
   "outputs": [
    {
     "data": {
      "text/plain": [
       "True"
      ]
     },
     "execution_count": 154,
     "metadata": {},
     "output_type": "execute_result"
    }
   ],
   "source": [
    "is_composite(567)"
   ]
  },
  {
   "cell_type": "markdown",
   "metadata": {},
   "source": [
    "### Dzielniki liczby"
   ]
  },
  {
   "cell_type": "markdown",
   "metadata": {},
   "source": [
    "Obliczanie wszystkich dzielników liczby naturalnej (krótszy zapis)"
   ]
  },
  {
   "cell_type": "code",
   "execution_count": 155,
   "metadata": {},
   "outputs": [],
   "source": [
    "from math import sqrt\n",
    "\n",
    "def all_factors(n: int) -> set:\n",
    "    step = n % 2 + 1  # If a number is prime, skip even values as they cannot be factors of an odd number\n",
    "    return {\n",
    "        factor for div in range(1, int(sqrt(n))+1, step) if not n % div\n",
    "        for factor in (div, n//div)\n",
    "    }"
   ]
  },
  {
   "cell_type": "code",
   "execution_count": 156,
   "metadata": {},
   "outputs": [
    {
     "data": {
      "text/plain": [
       "{1, 2, 3, 4, 5, 6, 8, 10, 12, 15, 20, 24, 30, 40, 60, 120}"
      ]
     },
     "execution_count": 156,
     "metadata": {},
     "output_type": "execute_result"
    }
   ],
   "source": [
    "all_factors(120)"
   ]
  },
  {
   "cell_type": "markdown",
   "metadata": {},
   "source": [
    "Obliczanie wszystkich dzielników liczby naturalnej (dłuższy zapis)"
   ]
  },
  {
   "cell_type": "code",
   "execution_count": 157,
   "metadata": {},
   "outputs": [],
   "source": [
    "from math import sqrt\n",
    "\n",
    "def all_factors(n: int) -> set:\n",
    "    step = n % 2 + 1  # If a number is prime, skip even values as they cannot be factors of an odd number\n",
    "    result = set()\n",
    "    for i in range(1, int(sqrt(n))+1, step):\n",
    "        div, mod = divmod(n, i)\n",
    "        if not mod:\n",
    "            result.add(div)\n",
    "            result.add(i)\n",
    "    return result"
   ]
  },
  {
   "cell_type": "code",
   "execution_count": 158,
   "metadata": {},
   "outputs": [
    {
     "data": {
      "text/plain": [
       "{1, 2, 3, 4, 5, 6, 8, 10, 12, 15, 20, 24, 30, 40, 60, 120}"
      ]
     },
     "execution_count": 158,
     "metadata": {},
     "output_type": "execute_result"
    }
   ],
   "source": [
    "all_factors(120)"
   ]
  },
  {
   "cell_type": "markdown",
   "metadata": {},
   "source": [
    "Obliczanie czynników pierwszych liczby naturalnej"
   ]
  },
  {
   "cell_type": "code",
   "execution_count": 159,
   "metadata": {},
   "outputs": [],
   "source": [
    "from math import sqrt\n",
    "\n",
    "def prime_factors(n: int) -> list:\n",
    "    factors = []\n",
    "\n",
    "    # Check if a number is valid\n",
    "    if n < 4:\n",
    "        return factors\n",
    "\n",
    "    n_cp = n  # For prime numbers cases\n",
    "    # Handle case when a number given is even to reduce a number of iterations\n",
    "    if n % 2 == 0:\n",
    "        factors.append(2)\n",
    "        while not n % 2:\n",
    "            n //= 2\n",
    "\n",
    "    # Check if any of odd numbers not greater than a square root of a number divides this number\n",
    "    for div in range(3, int(sqrt(n))+1, 2):\n",
    "        if not n % div:\n",
    "            factors.append(div)\n",
    "            n //= div\n",
    "\n",
    "            while not n % div:\n",
    "                n //= div\n",
    "\n",
    "            if n == 1:\n",
    "                return factors\n",
    "\n",
    "    # For prime numbers cases\n",
    "    if n != n_cp:\n",
    "        factors.append(n)\n",
    "    return factors"
   ]
  },
  {
   "cell_type": "code",
   "execution_count": 160,
   "metadata": {},
   "outputs": [
    {
     "data": {
      "text/plain": [
       "[]"
      ]
     },
     "execution_count": 160,
     "metadata": {},
     "output_type": "execute_result"
    }
   ],
   "source": [
    "prime_factors(0)"
   ]
  },
  {
   "cell_type": "markdown",
   "metadata": {},
   "source": [
    "### Największy wspólny dzielnik i najmniejsza wspólna wielokrotność"
   ]
  },
  {
   "cell_type": "markdown",
   "metadata": {},
   "source": [
    "Największy wspólny dzielnik 2 liczb całkowitych (rekurencyjne)"
   ]
  },
  {
   "cell_type": "code",
   "execution_count": 161,
   "metadata": {},
   "outputs": [],
   "source": [
    "def calc_gcd(a, b):\n",
    "    return a if not b else calc_gcd(b, a % b)\n",
    "\n",
    "def gcd(a: int, b: int) -> int:\n",
    "    return calc_gcd(abs(a), abs(b))"
   ]
  },
  {
   "cell_type": "code",
   "execution_count": 162,
   "metadata": {},
   "outputs": [
    {
     "data": {
      "text/plain": [
       "24"
      ]
     },
     "execution_count": 162,
     "metadata": {},
     "output_type": "execute_result"
    }
   ],
   "source": [
    "gcd(960, 216)"
   ]
  },
  {
   "cell_type": "markdown",
   "metadata": {},
   "source": [
    "Największy wspólny dzielnik 2 liczb całkowitych (nierekurencyjne)"
   ]
  },
  {
   "cell_type": "code",
   "execution_count": 163,
   "metadata": {},
   "outputs": [],
   "source": [
    "def gcd(a: int, b: int) -> int:\n",
    "    a = abs(a)\n",
    "    b = abs(b)\n",
    "    while b:\n",
    "        a, b = b, a % b\n",
    "    return a"
   ]
  },
  {
   "cell_type": "code",
   "execution_count": 164,
   "metadata": {},
   "outputs": [
    {
     "data": {
      "text/plain": [
       "24"
      ]
     },
     "execution_count": 164,
     "metadata": {},
     "output_type": "execute_result"
    }
   ],
   "source": [
    "gcd(960, 216)"
   ]
  },
  {
   "cell_type": "markdown",
   "metadata": {},
   "source": [
    "Największy wspólny dzielnik 2 i więcej liczb całkowitych (Konieczne jest użycie którejś z powyższych funkcji)"
   ]
  },
  {
   "cell_type": "code",
   "execution_count": 165,
   "metadata": {},
   "outputs": [],
   "source": [
    "def gcd_many_values(*nums: int) -> int:\n",
    "    if len(nums) < 2:\n",
    "        raise ValueError(f'Expected at least 2 values, got {len(nums)}')\n",
    "\n",
    "    res = nums[0]\n",
    "    i = 1\n",
    "    while i < len(nums) and res != 1:\n",
    "        res = gcd(res, nums[i])\n",
    "        i += 1\n",
    "    return res"
   ]
  },
  {
   "cell_type": "code",
   "execution_count": 166,
   "metadata": {},
   "outputs": [
    {
     "data": {
      "text/plain": [
       "5"
      ]
     },
     "execution_count": 166,
     "metadata": {},
     "output_type": "execute_result"
    }
   ],
   "source": [
    "gcd_many_values(785, 50, 15)"
   ]
  },
  {
   "cell_type": "markdown",
   "metadata": {},
   "source": [
    "Najmniejsza wspólna wielokrotność 2 liczb naturalnych (konieczne jest użycie którejś z funkcji gcd)"
   ]
  },
  {
   "cell_type": "code",
   "execution_count": 167,
   "metadata": {},
   "outputs": [],
   "source": [
    "def calc_lcm(a: int, b: int) -> int:\n",
    "    return a * b // gcd(a, b)\n",
    "\n",
    "\n",
    "def lcm(a: int, b: int) -> int:\n",
    "    if a < 0 or b < 0:\n",
    "        raise ValueError(f'Cannot calculate lowest common multiple of negative numbers')\n",
    "    return calc_lcm(a, b)"
   ]
  },
  {
   "cell_type": "code",
   "execution_count": 168,
   "metadata": {},
   "outputs": [
    {
     "data": {
      "text/plain": [
       "65"
      ]
     },
     "execution_count": 168,
     "metadata": {},
     "output_type": "execute_result"
    }
   ],
   "source": [
    "lcm(5, 13)"
   ]
  },
  {
   "cell_type": "markdown",
   "metadata": {},
   "source": [
    "Najmniejsza wspólna wielokrotność dla 2 lub więcej liczb naturalnych"
   ]
  },
  {
   "cell_type": "code",
   "execution_count": 169,
   "metadata": {},
   "outputs": [],
   "source": [
    "def lcm_many_values(*nums: int) -> int:\n",
    "    if len(nums) < 2:\n",
    "        raise ValueError(f'Expected at least 2 values, got {len(nums)}')\n",
    "\n",
    "    res = nums[0]\n",
    "    i = 1\n",
    "    while i < len(nums):\n",
    "        res = lcm(res, nums[i])\n",
    "        i += 1\n",
    "    return res"
   ]
  },
  {
   "cell_type": "code",
   "execution_count": 170,
   "metadata": {},
   "outputs": [
    {
     "data": {
      "text/plain": [
       "105"
      ]
     },
     "execution_count": 170,
     "metadata": {},
     "output_type": "execute_result"
    }
   ],
   "source": [
    "lcm_many_values(7, 3, 5)"
   ]
  },
  {
   "cell_type": "markdown",
   "metadata": {},
   "source": [
    "### Pozostałe liczbowe"
   ]
  },
  {
   "cell_type": "markdown",
   "metadata": {},
   "source": [
    "Sprawdzanie, czy liczba jest doskonała"
   ]
  },
  {
   "cell_type": "code",
   "execution_count": 171,
   "metadata": {},
   "outputs": [],
   "source": [
    "def is_perfect_number(n: int) -> bool:\n",
    "    if n <= 0:\n",
    "        raise ValueError('Non-positive number cannot be interpreted as positive number')\n",
    "    factors = all_factors(n)\n",
    "    factors.remove(n)\n",
    "    return sum(factors) == n"
   ]
  },
  {
   "cell_type": "code",
   "execution_count": 172,
   "metadata": {},
   "outputs": [
    {
     "data": {
      "text/plain": [
       "True"
      ]
     },
     "execution_count": 172,
     "metadata": {},
     "output_type": "execute_result"
    }
   ],
   "source": [
    "is_perfect_number(496)"
   ]
  },
  {
   "cell_type": "markdown",
   "metadata": {},
   "source": [
    "Liczby zaprzyjaźnione"
   ]
  },
  {
   "cell_type": "code",
   "execution_count": 173,
   "metadata": {},
   "outputs": [],
   "source": [
    "def are_numbers_friendly(a: int, b: int) -> bool:\n",
    "    if a == b:\n",
    "        return False\n",
    "\n",
    "    a_factors = all_factors(a)\n",
    "    a_factors.remove(a)\n",
    "    b_factors = all_factors(b)\n",
    "    b_factors.remove(b)\n",
    "\n",
    "    return sum(a_factors) == b and sum(b_factors) == a"
   ]
  },
  {
   "cell_type": "code",
   "execution_count": 174,
   "metadata": {},
   "outputs": [
    {
     "data": {
      "text/plain": [
       "True"
      ]
     },
     "execution_count": 174,
     "metadata": {},
     "output_type": "execute_result"
    }
   ],
   "source": [
    "are_numbers_friendly(284, 220)"
   ]
  },
  {
   "cell_type": "markdown",
   "metadata": {},
   "source": [
    "Obliczanie wartości liczby PI"
   ]
  },
  {
   "cell_type": "code",
   "execution_count": 175,
   "metadata": {},
   "outputs": [],
   "source": [
    "from math import sqrt\n",
    "\n",
    "def calc_pi(prec: int = 50) -> float:\n",
    "    value = 1\n",
    "    multiplier = sqrt(.5)\n",
    "    for _ in range(prec):\n",
    "        value *= multiplier\n",
    "        multiplier = sqrt(.5 + .5 * multiplier)\n",
    "\n",
    "    return 2 / value"
   ]
  },
  {
   "cell_type": "code",
   "execution_count": 176,
   "metadata": {},
   "outputs": [
    {
     "data": {
      "text/plain": [
       "3.141592653589794"
      ]
     },
     "execution_count": 176,
     "metadata": {},
     "output_type": "execute_result"
    }
   ],
   "source": [
    "calc_pi()"
   ]
  },
  {
   "cell_type": "markdown",
   "metadata": {},
   "source": [
    "Obliczanie wartości liczby e"
   ]
  },
  {
   "cell_type": "code",
   "execution_count": 177,
   "metadata": {},
   "outputs": [],
   "source": [
    "def calc_e(prec: int = 20) -> float:\n",
    "    fact = 1\n",
    "    e = 0\n",
    "    for i in range(1, prec+1):\n",
    "        e += 1/fact\n",
    "        fact *= i\n",
    "    return e"
   ]
  },
  {
   "cell_type": "code",
   "execution_count": 178,
   "metadata": {},
   "outputs": [
    {
     "data": {
      "text/plain": [
       "2.7182818284590455"
      ]
     },
     "execution_count": 178,
     "metadata": {},
     "output_type": "execute_result"
    }
   ],
   "source": [
    "calc_e()"
   ]
  },
  {
   "cell_type": "markdown",
   "metadata": {},
   "source": [
    "### Palindrom"
   ]
  },
  {
   "cell_type": "markdown",
   "metadata": {},
   "source": [
    "Sprawdzanie, czy sekwencja jest palindromem"
   ]
  },
  {
   "cell_type": "code",
   "execution_count": 179,
   "metadata": {},
   "outputs": [],
   "source": [
    "def is_palindrome(seq: 'any sequence') -> bool:\n",
    "    for i in range(len(seq)//2):\n",
    "        if seq[i] != seq[-i-1]:\n",
    "            return False\n",
    "    return True"
   ]
  },
  {
   "cell_type": "code",
   "execution_count": 180,
   "metadata": {},
   "outputs": [
    {
     "data": {
      "text/plain": [
       "(True, True, True, False)"
      ]
     },
     "execution_count": 180,
     "metadata": {},
     "output_type": "execute_result"
    }
   ],
   "source": [
    "is_palindrome('12321'), is_palindrome('1221'), is_palindrome('1'), is_palindrome('123421')"
   ]
  },
  {
   "cell_type": "markdown",
   "metadata": {},
   "source": [
    "## Pobieranie danych"
   ]
  },
  {
   "cell_type": "markdown",
   "metadata": {},
   "source": [
    "Tworzenie tablicy 2-wymiarowej"
   ]
  },
  {
   "cell_type": "code",
   "execution_count": 181,
   "metadata": {},
   "outputs": [],
   "source": [
    "def create_matrix(rows: int, columns: int, *, fill_with=0) -> '2-dimensional list':\n",
    "    return [[fill_with]*columns for _ in range(rows)]"
   ]
  },
  {
   "cell_type": "code",
   "execution_count": 182,
   "metadata": {},
   "outputs": [
    {
     "data": {
      "text/plain": [
       "[[0, 0, 0], [0, 0, 0], [0, 0, 0], [0, 0, 0], [0, 0, 0]]"
      ]
     },
     "execution_count": 182,
     "metadata": {},
     "output_type": "execute_result"
    }
   ],
   "source": [
    "create_matrix(5, 3)"
   ]
  },
  {
   "cell_type": "markdown",
   "metadata": {},
   "source": [
    "Wypełnianie tablicy 2-wymairowej"
   ]
  },
  {
   "cell_type": "code",
   "execution_count": 183,
   "metadata": {},
   "outputs": [],
   "source": [
    "def fill_matrix(matrix: list):\n",
    "    for i in range(len(matrix)):\n",
    "        while True:\n",
    "            row = input().split()\n",
    "            if len(row) == len(matrix[i]):\n",
    "                break\n",
    "        for j, val in enumerate(row):\n",
    "            matrix[i][j] = int(val)"
   ]
  },
  {
   "cell_type": "code",
   "execution_count": 184,
   "metadata": {},
   "outputs": [],
   "source": [
    "matrix = create_matrix(5, 3)\n",
    "# fill_matrix(matrix)"
   ]
  },
  {
   "cell_type": "code",
   "execution_count": 185,
   "metadata": {},
   "outputs": [
    {
     "data": {
      "text/plain": [
       "[[0, 0, 0], [0, 0, 0], [0, 0, 0], [0, 0, 0], [0, 0, 0]]"
      ]
     },
     "execution_count": 185,
     "metadata": {},
     "output_type": "execute_result"
    }
   ],
   "source": [
    "matrix"
   ]
  },
  {
   "cell_type": "markdown",
   "metadata": {},
   "source": [
    "Tworzenie i wypełnianie tablicy 1-wymiarowej"
   ]
  },
  {
   "cell_type": "code",
   "execution_count": 229,
   "metadata": {},
   "outputs": [
    {
     "name": "stdout",
     "output_type": "stream",
     "text": [
      "4\n",
      "1\n",
      "3\n",
      "5\n",
      "7\n"
     ]
    }
   ],
   "source": [
    "n = int(input())\n",
    "t = [int(input()) for _ in range(n)]"
   ]
  },
  {
   "cell_type": "code",
   "execution_count": 230,
   "metadata": {},
   "outputs": [
    {
     "data": {
      "text/plain": [
       "[1, 3, 5, 7]"
      ]
     },
     "execution_count": 230,
     "metadata": {},
     "output_type": "execute_result"
    }
   ],
   "source": [
    "t"
   ]
  },
  {
   "cell_type": "markdown",
   "metadata": {},
   "source": [
    "## Listy (tablice)"
   ]
  },
  {
   "cell_type": "markdown",
   "metadata": {},
   "source": [
    "### Podciągi w tablicy 1-wymiarowej"
   ]
  },
  {
   "cell_type": "markdown",
   "metadata": {},
   "source": [
    "Najdłuższy spójny podciąg arytmetyczny"
   ]
  },
  {
   "cell_type": "code",
   "execution_count": 231,
   "metadata": {},
   "outputs": [],
   "source": [
    "def longest_consistent_arithmetic_subsequence(seq: 'sequence of numbers') -> int:\n",
    "    if len(seq) < 2:\n",
    "        return 0\n",
    "    \n",
    "    max_length = curr_length = 2\n",
    "    for i in range(1, len(seq)-1):\n",
    "        if seq[i-1] + seq[i+1] == 2*seq[i]:\n",
    "            curr_length += 1\n",
    "            if curr_length > max_length:\n",
    "                max_length = curr_length\n",
    "        else:\n",
    "            curr_length = 2\n",
    "    return max_length"
   ]
  },
  {
   "cell_type": "code",
   "execution_count": 232,
   "metadata": {},
   "outputs": [
    {
     "data": {
      "text/plain": [
       "5"
      ]
     },
     "execution_count": 232,
     "metadata": {},
     "output_type": "execute_result"
    }
   ],
   "source": [
    "longest_consistent_arithmetic_subsequence((1, 2, 3, 5, 4, 3, 2, 1))"
   ]
  },
  {
   "cell_type": "markdown",
   "metadata": {},
   "source": [
    "Najdłuższy spójny podciąg geometryczny"
   ]
  },
  {
   "cell_type": "code",
   "execution_count": 233,
   "metadata": {},
   "outputs": [],
   "source": [
    "def longest_consistent_geometric_subsequence(seq: 'sequence of numbers') -> int:\n",
    "    if len(seq) < 2:\n",
    "        return 0\n",
    "    \n",
    "    max_length = curr_length = 2\n",
    "    for i in range(1, len(seq)-1):\n",
    "        if seq[i-1] * seq[i+1] == seq[i]**2:\n",
    "            curr_length += 1\n",
    "            if curr_length > max_length:\n",
    "                max_length = curr_length\n",
    "        else:\n",
    "            curr_length = 2\n",
    "    return max_length"
   ]
  },
  {
   "cell_type": "code",
   "execution_count": 234,
   "metadata": {},
   "outputs": [
    {
     "data": {
      "text/plain": [
       "4"
      ]
     },
     "execution_count": 234,
     "metadata": {},
     "output_type": "execute_result"
    }
   ],
   "source": [
    "longest_consistent_geometric_subsequence((1, 2, 4, 16, 64, 256))"
   ]
  },
  {
   "cell_type": "markdown",
   "metadata": {},
   "source": [
    "Najdłuższy spójny podciąg, będący palindromem"
   ]
  },
  {
   "cell_type": "code",
   "execution_count": 235,
   "metadata": {},
   "outputs": [],
   "source": [
    "def palindrome_length(seq: 'sequence of numbers', left_idx: int, right_idx: int) -> int:\n",
    "    while 0 <= left_idx and right_idx < len(seq) and seq[left_idx] == seq[right_idx]:\n",
    "        left_idx -= 1\n",
    "        right_idx += 1\n",
    "    return right_idx - left_idx - 1\n",
    "\n",
    "\n",
    "def longest_consistent_palindrome_subsequence(seq: 'sequence of numbers') -> int:\n",
    "    max_length = 0\n",
    "    start_idx = 0\n",
    "\n",
    "    # Loop only while it is still possible to find the longest subsequence\n",
    "    while len(seq)-1 - start_idx > max_length//2:\n",
    "        # For palindromes of odd elements counts\n",
    "        odd_length = palindrome_length(seq, start_idx, start_idx)\n",
    "        # For palindromes of even elements counts\n",
    "        even_length = palindrome_length(seq, start_idx, start_idx+1)\n",
    "\n",
    "        curr_length = max(odd_length, even_length)\n",
    "\n",
    "        if curr_length > max_length:\n",
    "            max_length = curr_length\n",
    "\n",
    "        start_idx += 1\n",
    "\n",
    "    return max_length"
   ]
  },
  {
   "cell_type": "code",
   "execution_count": 236,
   "metadata": {},
   "outputs": [
    {
     "data": {
      "text/plain": [
       "6"
      ]
     },
     "execution_count": 236,
     "metadata": {},
     "output_type": "execute_result"
    }
   ],
   "source": [
    "longest_consistent_palindrome_subsequence([1, 2, 1, 6, 7, 4, 5, 6, 5, 4, 2, 1, 4, 4, 1, 2])"
   ]
  },
  {
   "cell_type": "markdown",
   "metadata": {},
   "source": [
    "Najdłuższy spójny podciąg rosnący o największej sumie wartości, która jest równa sumie indeksów miejsc, na których stoją"
   ]
  },
  {
   "cell_type": "code",
   "execution_count": 237,
   "metadata": {},
   "outputs": [],
   "source": [
    "def longest_consistent_increasing_indices_values_sum_subsequence(seq: 'sequence of numbers') -> int:\n",
    "        max_length = current_length = 1\n",
    "        sum_indices = 0\n",
    "        sum_values = prev_val = seq[0]\n",
    "\n",
    "        for i in range(1, len(seq)):\n",
    "            if seq[i] > prev_val:\n",
    "                current_length += 1\n",
    "                sum_indices += i\n",
    "                sum_values += seq[i]\n",
    "                if current_length > max_length and sum_indices == sum_values:\n",
    "                    max_length = current_length\n",
    "            else:\n",
    "                prev_val = sum_values = seq[i]\n",
    "                current_length = 1\n",
    "                sum_indices = i\n",
    "\n",
    "        return 0 if max_length == 1 else max_length"
   ]
  },
  {
   "cell_type": "code",
   "execution_count": 238,
   "metadata": {},
   "outputs": [
    {
     "data": {
      "text/plain": [
       "4"
      ]
     },
     "execution_count": 238,
     "metadata": {},
     "output_type": "execute_result"
    }
   ],
   "source": [
    "t = [34, 23, 12, 2313, 341, 123, 14, 93, 83, 61,\n",
    "     82, 283, 278, 2, 5, 21, 30, 68, 123, 93, 1,\n",
    "     2, 60, 90, 123, 342, 12, 42, 32, 231]\n",
    "longest_consistent_increasing_indices_values_sum_subsequence(t)"
   ]
  },
  {
   "cell_type": "markdown",
   "metadata": {},
   "source": [
    "Spójny podciąg o zadanej długości i największej sumie"
   ]
  },
  {
   "cell_type": "code",
   "execution_count": 239,
   "metadata": {},
   "outputs": [],
   "source": [
    "def max_sum_consistent_subsequence(seq: 'sequence of numbers', max_length: int) -> int:\n",
    "    max_sum = 0\n",
    "    \n",
    "    for i in range(len(seq)):  # Index of the subsequence's beginning\n",
    "        curr_sum = 0\n",
    "        for j in range(i, min(i + max_length, len(seq))):  # Currently summed value's index\n",
    "            curr_sum += seq[j]\n",
    "            \n",
    "            if curr_sum > max_sum:\n",
    "                max_sum = curr_sum\n",
    "    \n",
    "    return max_sum"
   ]
  },
  {
   "cell_type": "code",
   "execution_count": 240,
   "metadata": {},
   "outputs": [
    {
     "data": {
      "text/plain": [
       "2884"
      ]
     },
     "execution_count": 240,
     "metadata": {},
     "output_type": "execute_result"
    }
   ],
   "source": [
    "t = [34, 23, 12, 2313, 341, 123, 14, 93, 83, 61,\n",
    "     82, 283, 278, 2, 5, 21, 30, 68, 123, 93, 1,\n",
    "     2, 60, 90, 123, 342, 12, 42, 32, 231]\n",
    "max_sum_consistent_subsequence(t, 5)"
   ]
  },
  {
   "cell_type": "markdown",
   "metadata": {},
   "source": [
    "### Tablice 2-wymiarowe (algorytmy różne)"
   ]
  },
  {
   "cell_type": "markdown",
   "metadata": {},
   "source": [
    "Wypełnianie 2-wymiarowej kwadratowej listy po spirali (tu kolejnymi liczbami)"
   ]
  },
  {
   "cell_type": "code",
   "execution_count": 241,
   "metadata": {},
   "outputs": [],
   "source": [
    "def fill_matrix_spiral(matrix: [[int]]):\n",
    "    if len(matrix) != len(matrix[0]):\n",
    "        raise ValueError('Wrong dimensions of the matrix passed. Number of rows differs from a number of columns.')\n",
    "    \n",
    "    num = 0\n",
    "    def next_int():\n",
    "        nonlocal num\n",
    "        num += 1\n",
    "        return num\n",
    "    \n",
    "    end_idx = len(matrix)-1\n",
    "    center_idx = len(matrix) // 2\n",
    "    for begin_idx in range(center_idx):\n",
    "        for i in range(begin_idx, end_idx):\n",
    "            matrix[begin_idx][i] = next_int()\n",
    "        for i in range(begin_idx, end_idx):\n",
    "            matrix[i][-begin_idx - 1] = next_int()\n",
    "        for i in range(end_idx, begin_idx, -1):\n",
    "            matrix[-begin_idx - 1][i] = next_int()\n",
    "        for i in range(end_idx, begin_idx, -1):\n",
    "            matrix[i][begin_idx] = next_int()\n",
    "        end_idx -= 1\n",
    "            \n",
    "    if len(matrix) % 2:\n",
    "        matrix[center_idx][center_idx] = next_int()"
   ]
  },
  {
   "cell_type": "code",
   "execution_count": 242,
   "metadata": {},
   "outputs": [],
   "source": [
    "t = create_matrix(6, 6)  # I use function declared above\n",
    "fill_matrix_spiral(t)"
   ]
  },
  {
   "cell_type": "code",
   "execution_count": 243,
   "metadata": {},
   "outputs": [
    {
     "data": {
      "text/plain": [
       "[[1, 2, 3, 4, 5, 6],\n",
       " [20, 21, 22, 23, 24, 7],\n",
       " [19, 32, 33, 34, 25, 8],\n",
       " [18, 31, 36, 35, 26, 9],\n",
       " [17, 30, 29, 28, 27, 10],\n",
       " [16, 15, 14, 13, 12, 11]]"
      ]
     },
     "execution_count": 243,
     "metadata": {},
     "output_type": "execute_result"
    }
   ],
   "source": [
    "t"
   ]
  },
  {
   "cell_type": "markdown",
   "metadata": {},
   "source": [
    "Sumowanie wartości w wierszu"
   ]
  },
  {
   "cell_type": "code",
   "execution_count": 244,
   "metadata": {},
   "outputs": [],
   "source": [
    "def row_sum(matrix: '2-dimensional sequence of numbers', row_idx: int):\n",
    "    return sum(matrix[row_idx])"
   ]
  },
  {
   "cell_type": "code",
   "execution_count": 245,
   "metadata": {},
   "outputs": [
    {
     "data": {
      "text/plain": [
       "155"
      ]
     },
     "execution_count": 245,
     "metadata": {},
     "output_type": "execute_result"
    }
   ],
   "source": [
    "row_sum(t, 3)  # See t matrix above"
   ]
  },
  {
   "cell_type": "markdown",
   "metadata": {},
   "source": [
    "Sumowanie wartości w kolumnie"
   ]
  },
  {
   "cell_type": "code",
   "execution_count": 246,
   "metadata": {},
   "outputs": [],
   "source": [
    "def col_sum(matrix: '2-dimensional sequence of numbers', col_idx: int):\n",
    "    sum_ = 0\n",
    "    for row_idx in range(len(matrix)):\n",
    "        sum_ += matrix[row_idx][col_idx]\n",
    "    return sum_"
   ]
  },
  {
   "cell_type": "code",
   "execution_count": 247,
   "metadata": {},
   "outputs": [
    {
     "data": {
      "text/plain": [
       "81"
      ]
     },
     "execution_count": 247,
     "metadata": {},
     "output_type": "execute_result"
    }
   ],
   "source": [
    "row_sum(t, -1)  # See t matrix above"
   ]
  },
  {
   "cell_type": "markdown",
   "metadata": {},
   "source": [
    "Sumowanie wartości w wierszu i kolumnie jednocześnie z wyrzuceniem wartości w punkcie przecięcia"
   ]
  },
  {
   "cell_type": "code",
   "execution_count": 248,
   "metadata": {},
   "outputs": [],
   "source": [
    "def row_col_sum(matrix: '2-dimensional sequence of numbers', row_idx: int, col_idx: int):\n",
    "    sum_ = -2 * matrix[row_idx][col_idx]\n",
    "    \n",
    "    # Get sum of values in the specified row\n",
    "    for i in range(len(matrix[row_idx])):\n",
    "        sum_ += matrix[row_idx][i]\n",
    "        \n",
    "    # Get sum of values in the specified column\n",
    "    for i in range(len(matrix)):\n",
    "        sum_ += matrix[i][col_idx]\n",
    "        \n",
    "    return sum_"
   ]
  },
  {
   "cell_type": "code",
   "execution_count": 249,
   "metadata": {},
   "outputs": [
    {
     "data": {
      "text/plain": [
       "154"
      ]
     },
     "execution_count": 249,
     "metadata": {},
     "output_type": "execute_result"
    }
   ],
   "source": [
    "row_col_sum(t, 1, -1)"
   ]
  },
  {
   "cell_type": "markdown",
   "metadata": {},
   "source": [
    "Sumowanie wartości po przekątnej (z lewego górnego narożnika do prawego dolnego)"
   ]
  },
  {
   "cell_type": "code",
   "execution_count": 250,
   "metadata": {},
   "outputs": [],
   "source": [
    "def diagonal_tl_br_sum(matrix: '2-dimensional sequence of numbers', row_idx: int, col_idx: int):\n",
    "    row_idx = row_idx if row_idx > 0 else len(matrix) + row_idx\n",
    "    col_idx = col_idx if col_idx > 0 else len(matrix[0]) + col_idx\n",
    "    \n",
    "    i = -min(row_idx, col_idx)\n",
    "    sum_ = 0\n",
    "    while row_idx+i < len(matrix) and col_idx+i < len(matrix[0]):\n",
    "        c = (row_idx+i, col_idx+i)\n",
    "        sum_ += matrix[row_idx+i][col_idx+i]\n",
    "        i += 1\n",
    "\n",
    "    return sum_"
   ]
  },
  {
   "cell_type": "code",
   "execution_count": 251,
   "metadata": {},
   "outputs": [
    {
     "data": {
      "text/plain": [
       "36"
      ]
     },
     "execution_count": 251,
     "metadata": {},
     "output_type": "execute_result"
    }
   ],
   "source": [
    "diagonal_tl_br_sum(t, 2, -1)"
   ]
  },
  {
   "cell_type": "markdown",
   "metadata": {},
   "source": [
    "Sumowanie wartości po przekątnej (z prawego górnego narożnika do lewego dolnego)"
   ]
  },
  {
   "cell_type": "code",
   "execution_count": 252,
   "metadata": {},
   "outputs": [],
   "source": [
    "def diagonal_tr_bl_sum(matrix: '2-dimensional sequence of numbers', row_idx: int, col_idx: int):\n",
    "    row_idx = row_idx if row_idx > 0 else len(matrix) + row_idx\n",
    "    col_idx = col_idx if col_idx > 0 else len(matrix[0]) + col_idx\n",
    "\n",
    "    i = min(row_idx, len(matrix)-1 - col_idx)\n",
    "    sum_ = 0\n",
    "    while row_idx-i < len(matrix) and col_idx+i < len(matrix[0]):\n",
    "        c = (row_idx-i, col_idx+i)\n",
    "        sum_ += matrix[row_idx-i][col_idx+i]\n",
    "        i -= 1\n",
    "\n",
    "    return sum_"
   ]
  },
  {
   "cell_type": "code",
   "execution_count": 253,
   "metadata": {},
   "outputs": [
    {
     "data": {
      "text/plain": [
       "76"
      ]
     },
     "execution_count": 253,
     "metadata": {},
     "output_type": "execute_result"
    }
   ],
   "source": [
    "diagonal_tr_bl_sum(t, 2, -1)"
   ]
  },
  {
   "cell_type": "markdown",
   "metadata": {},
   "source": [
    "Sumowanie wartości na krzyż (po obu przekątnych; konieczne jest użycie powyższych dwóch funkcji)"
   ]
  },
  {
   "cell_type": "code",
   "execution_count": 254,
   "metadata": {},
   "outputs": [],
   "source": [
    "def diagonal_sums(matrix: '2-dimensional sequence of numbers', row_idx: int, col_idx: int):\n",
    "    tl_br_sum = diagonal_tl_br_sum(matrix, row_idx, col_idx)\n",
    "    tr_bl_sum = diagonal_tr_bl_sum(matrix, row_idx, col_idx)\n",
    "    return tl_br_sum + tr_bl_sum - matrix[row_idx][col_idx]  # We calculated one value 2 times"
   ]
  },
  {
   "cell_type": "code",
   "execution_count": 255,
   "metadata": {},
   "outputs": [
    {
     "data": {
      "text/plain": [
       "176"
      ]
     },
     "execution_count": 255,
     "metadata": {},
     "output_type": "execute_result"
    }
   ],
   "source": [
    "diagonal_sums(t, 4, -3)"
   ]
  },
  {
   "cell_type": "markdown",
   "metadata": {},
   "source": [
    "Suma otaczających elementów (obwódka z 8 elementów)"
   ]
  },
  {
   "cell_type": "code",
   "execution_count": 256,
   "metadata": {},
   "outputs": [],
   "source": [
    "def get_surrounding_sum(matrix: '2-dimensional sequence of numbers', row_idx: int, col_idx: int):\n",
    "    sum_ = -matrix[row_idx][col_idx]\n",
    "    for i in range(row_idx-1, row_idx+2):\n",
    "        for j in range(col_idx-1, col_idx+2):\n",
    "            sum_ += matrix[i][j]\n",
    "    return sum_"
   ]
  },
  {
   "cell_type": "code",
   "execution_count": 257,
   "metadata": {},
   "outputs": [
    {
     "data": {
      "text/plain": [
       "192"
      ]
     },
     "execution_count": 257,
     "metadata": {},
     "output_type": "execute_result"
    }
   ],
   "source": [
    "get_surrounding_sum(t, 4, 3)  # Uważaj na ujemne wartości dla punktów na krawędzi matrycy (zwrócą złą wartość)"
   ]
  },
  {
   "cell_type": "markdown",
   "metadata": {},
   "source": [
    "Spójny podciąg o największej sumie i zadanej długości"
   ]
  },
  {
   "cell_type": "code",
   "execution_count": 258,
   "metadata": {},
   "outputs": [],
   "source": [
    "def max_sum_consistent_subsequence(matrix: '2-dimensional sequence of numbers', max_length: int = 10) -> int:\n",
    "    max_sum = 0\n",
    "\n",
    "    # Search in rows\n",
    "    for row_idx in range(len(matrix)):\n",
    "        for i in range(len(matrix[row_idx])):  # Index of the sequence's beginning\n",
    "            curr_sum = 0\n",
    "            for j in range(i, min(i + max_length, len(matrix[row_idx]))):  # Currently summed value's index\n",
    "                curr_sum += matrix[row_idx][j]\n",
    "\n",
    "                if curr_sum > max_sum:\n",
    "                    max_sum = curr_sum\n",
    "\n",
    "    # Search in columns\n",
    "    for col_idx in range(len(matrix[0])):\n",
    "        for i in range(len(matrix)):  # Index of the sequence's beginning\n",
    "            curr_sum = 0\n",
    "            for j in range(i, min(i + max_length, len(matrix))):  # Currently summed value's index\n",
    "                curr_sum += matrix[j][col_idx]\n",
    "\n",
    "                if curr_sum > max_sum:\n",
    "                    max_sum = curr_sum\n",
    "\n",
    "    return max_sum"
   ]
  },
  {
   "cell_type": "code",
   "execution_count": 259,
   "metadata": {},
   "outputs": [
    {
     "data": {
      "text/plain": [
       "102"
      ]
     },
     "execution_count": 259,
     "metadata": {},
     "output_type": "execute_result"
    }
   ],
   "source": [
    "max_sum_consistent_subsequence(t, 3)"
   ]
  },
  {
   "cell_type": "markdown",
   "metadata": {},
   "source": [
    "Linearyzacja 2-wymiarowej tablicy (listy)"
   ]
  },
  {
   "cell_type": "code",
   "execution_count": 260,
   "metadata": {},
   "outputs": [],
   "source": [
    "def f(matrix: '2-dimensional sequence of numbers'):\n",
    "    # This function works with non-square matrices as well as with square ones\n",
    "    rows, cols = len(matrix), len(matrix[0])\n",
    "    length = rows*cols  # A length of linearized matrix\n",
    "    for i in range(length):\n",
    "        val1 = matrix[i//cols][i%cols]\n",
    "        for j in range(i+1, length):\n",
    "            val2 = matrix[j//cols][j%cols]\n",
    "            print(val1, val2)  # REMOVE ME"
   ]
  },
  {
   "cell_type": "code",
   "execution_count": 261,
   "metadata": {},
   "outputs": [
    {
     "name": "stdout",
     "output_type": "stream",
     "text": [
      "1 2\n",
      "1 3\n",
      "1 4\n",
      "1 5\n",
      "1 6\n",
      "2 3\n",
      "2 4\n",
      "2 5\n",
      "2 6\n",
      "3 4\n",
      "3 5\n",
      "3 6\n",
      "4 5\n",
      "4 6\n",
      "5 6\n"
     ]
    }
   ],
   "source": [
    "t = [\n",
    "    [1, 2, 3],\n",
    "    [4, 5, 6]\n",
    "]\n",
    "f(t)"
   ]
  },
  {
   "cell_type": "markdown",
   "metadata": {},
   "source": [
    "Linearyzacja 3-wymiarowej tablicy (listy)"
   ]
  },
  {
   "cell_type": "code",
   "execution_count": 262,
   "metadata": {},
   "outputs": [],
   "source": [
    "def f(matrix3d: '3-dimensional sequence of numbers'):\n",
    "    levels, rows, cols = len(matrix3d), len(matrix3d[0]), len(matrix3d[0][0])\n",
    "    level_size = rows*cols      # A size of a matrix in a field\n",
    "    length = levels*level_size  # A length of linearized matrix\n",
    "    for i in range(length):\n",
    "        k1 = i%level_size  # The first pointer in the current level\n",
    "        val1 = matrix3d[i//level_size][k1//cols][k1%cols]\n",
    "        for j in range(i+1, length):\n",
    "            k2 = j%level_size  # The second pointer in the current level\n",
    "            val2 = matrix3d[j//level_size][k2//cols][k2%cols]\n",
    "            print(val1, val2)  # REMOVE ME"
   ]
  },
  {
   "cell_type": "code",
   "execution_count": 263,
   "metadata": {},
   "outputs": [
    {
     "name": "stdout",
     "output_type": "stream",
     "text": [
      "1 2\n",
      "1 3\n",
      "1 4\n",
      "1 5\n",
      "1 6\n",
      "1 7\n",
      "1 8\n",
      "2 3\n",
      "2 4\n",
      "2 5\n",
      "2 6\n",
      "2 7\n",
      "2 8\n",
      "3 4\n",
      "3 5\n",
      "3 6\n",
      "3 7\n",
      "3 8\n",
      "4 5\n",
      "4 6\n",
      "4 7\n",
      "4 8\n",
      "5 6\n",
      "5 7\n",
      "5 8\n",
      "6 7\n",
      "6 8\n",
      "7 8\n"
     ]
    }
   ],
   "source": [
    "t = [\n",
    "    [\n",
    "        [1, 2],\n",
    "        [3, 4]\n",
    "    ],\n",
    "    [\n",
    "        [5, 6],\n",
    "        [7, 8]\n",
    "    ]\n",
    "]\n",
    "f(t)"
   ]
  },
  {
   "cell_type": "markdown",
   "metadata": {},
   "source": [
    "### Algorytmy szachowe"
   ]
  },
  {
   "cell_type": "markdown",
   "metadata": {},
   "source": [
    "Sprawdzanie, czy hetmany (królowe) się szachują (dla przekazanej listy koordynatów)"
   ]
  },
  {
   "cell_type": "code",
   "execution_count": 264,
   "metadata": {},
   "outputs": [],
   "source": [
    "def check_if_queens_checkmate(num_rows, num_cols, coords):\n",
    "    taken_rows = [0]*num_rows\n",
    "    taken_cols = [0]*num_cols\n",
    "    taken_tl_br_diagonal = [0]*(num_cols + num_rows)\n",
    "    taken_tr_bl_diagonal = [0]*(num_cols + num_rows)\n",
    "\n",
    "    for r, c in coords:\n",
    "        if taken_rows[r] or taken_cols[c] or taken_tl_br_diagonal[r+c] or taken_tr_bl_diagonal[r-c]:\n",
    "            return True  # Return True if found a queen that is in check\n",
    "        else:\n",
    "            taken_rows[r] = taken_cols[c] = taken_tl_br_diagonal[r+c] = taken_tr_bl_diagonal[r-c] = 1\n",
    "\n",
    "    return False"
   ]
  },
  {
   "cell_type": "code",
   "execution_count": 265,
   "metadata": {},
   "outputs": [
    {
     "name": "stdout",
     "output_type": "stream",
     "text": [
      "True\n"
     ]
    }
   ],
   "source": [
    "t = [(0, 0), (1, 2), (2, 3), (5, 1)]\n",
    "rows = 4\n",
    "cols = 6\n",
    "print(check_if_queens_checkmate(rows, cols, t))"
   ]
  },
  {
   "cell_type": "markdown",
   "metadata": {},
   "source": [
    "### Pozostałe"
   ]
  },
  {
   "cell_type": "markdown",
   "metadata": {},
   "source": [
    "Generowanie 2-wymiarowej listy losowych liczb całkowitych"
   ]
  },
  {
   "cell_type": "code",
   "execution_count": 266,
   "metadata": {},
   "outputs": [],
   "source": [
    "import random\n",
    "\n",
    "\n",
    "def random_matrix(rows: int, cols: int, min_num: int, max_num: int) -> [[int]]:\n",
    "    return [[random.randint(min_num, max_num) for _ in range(cols)] for _ in range(rows)]"
   ]
  },
  {
   "cell_type": "code",
   "execution_count": 267,
   "metadata": {},
   "outputs": [
    {
     "name": "stdout",
     "output_type": "stream",
     "text": [
      "[41, 82, 56, 69, 75]\n",
      "[1, 41, 91, 53, 97]\n",
      "[21, 100, 68, 24, 13]\n",
      "[29, 28, 74, 42, 87]\n",
      "[50, 74, 49, 45, 10]\n"
     ]
    }
   ],
   "source": [
    "N = 5\n",
    "min_num, max_num = 0, 100\n",
    "t = random_matrix(N, N, min_num, max_num)\n",
    "print(*t, sep='\\n')"
   ]
  },
  {
   "cell_type": "markdown",
   "metadata": {},
   "source": [
    "Generowanie 1-wymiarowej listy losowych liczb całkowitych"
   ]
  },
  {
   "cell_type": "code",
   "execution_count": 268,
   "metadata": {},
   "outputs": [],
   "source": [
    "import random\n",
    "\n",
    "\n",
    "def random_list(length: int, min_num: int, max_num: int) -> [int]:\n",
    "    return [random.randint(min_num, max_num) for _ in range(length)]"
   ]
  },
  {
   "cell_type": "code",
   "execution_count": 269,
   "metadata": {},
   "outputs": [
    {
     "name": "stdout",
     "output_type": "stream",
     "text": [
      "[10, 2, 2, 2, 4, 1, 2, 10, 9, 5, 9, 9, 7, 1, 9, 3, 1, 2, 0, 8, 2, 1, 6, 4, 2]\n"
     ]
    }
   ],
   "source": [
    "N = 25\n",
    "min_num, max_num = 0, 10\n",
    "t = random_list(N, min_num, max_num)\n",
    "print(t)"
   ]
  },
  {
   "cell_type": "markdown",
   "metadata": {},
   "source": [
    "Tworzenie zbioru cyfr, z jakich zbudowana jest liczba naturalna"
   ]
  },
  {
   "cell_type": "code",
   "execution_count": 270,
   "metadata": {},
   "outputs": [],
   "source": [
    "def get_number_digits(num):\n",
    "    digits = set()\n",
    "\n",
    "    while num and len(digits) < 10:  # If a number has all possible digits, end the loop\n",
    "        num, dgt = divmod(num, 10)\n",
    "        digits.add(dgt)\n",
    "\n",
    "    return digits"
   ]
  },
  {
   "cell_type": "code",
   "execution_count": 271,
   "metadata": {},
   "outputs": [
    {
     "data": {
      "text/plain": [
       "{1, 2, 3, 4}"
      ]
     },
     "execution_count": 271,
     "metadata": {},
     "output_type": "execute_result"
    }
   ],
   "source": [
    "get_number_digits(2341)"
   ]
  },
  {
   "cell_type": "code",
   "execution_count": null,
   "metadata": {},
   "outputs": [],
   "source": []
  }
 ],
 "metadata": {
  "kernelspec": {
   "display_name": "Python 3 (ipykernel)",
   "language": "python",
   "name": "python3"
  },
  "language_info": {
   "codemirror_mode": {
    "name": "ipython",
    "version": 3
   },
   "file_extension": ".py",
   "mimetype": "text/x-python",
   "name": "python",
   "nbconvert_exporter": "python",
   "pygments_lexer": "ipython3",
   "version": "3.9.7"
  }
 },
 "nbformat": 4,
 "nbformat_minor": 4
}
