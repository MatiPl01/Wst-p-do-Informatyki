{
 "cells": [
  {
   "cell_type": "markdown",
   "metadata": {},
   "source": [
    "# Algorytmy sortowania"
   ]
  },
  {
   "cell_type": "markdown",
   "metadata": {},
   "source": [
    "### Sortowanie logiczne"
   ]
  },
  {
   "cell_type": "markdown",
   "metadata": {},
   "source": [
    "Logiczne sortowanie o kwadratowej złożoności"
   ]
  },
  {
   "cell_type": "code",
   "execution_count": 20,
   "metadata": {},
   "outputs": [],
   "source": [
    "def logical_sort(seq):\n",
    "\tindices_seq = [None] * len(seq)\n",
    "\tindices = dict.fromkeys(range(len(seq)))\n",
    "\n",
    "\ti = 0\n",
    "\twhile indices:\n",
    "\t\tindices_iter = iter(indices)\n",
    "\t\tj = last_j = next(indices_iter)\n",
    "\t\tindices_seq[i] = j\n",
    "        \n",
    "\t\twhile True:\n",
    "\t\t\ttry:\n",
    "\t\t\t\tj = next(indices_iter)\n",
    "\t\t\texcept StopIteration:\n",
    "\t\t\t\tbreak\n",
    "\t\t\telse:\n",
    "\t\t\t\tif seq[indices_seq[i]] > seq[j]:\n",
    "\t\t\t\t\tindices_seq[i] = last_j = j\n",
    "\t\t\t\t\t\n",
    "\t\tindices.pop(last_j)\n",
    "\t\ti += 1\n",
    "\t\t\n",
    "\treturn indices_seq"
   ]
  },
  {
   "cell_type": "code",
   "execution_count": 21,
   "metadata": {},
   "outputs": [
    {
     "data": {
      "text/plain": [
       "[3, 1, 5, 4, 0, 2]"
      ]
     },
     "execution_count": 21,
     "metadata": {},
     "output_type": "execute_result"
    }
   ],
   "source": [
    "t = [11, 3, 13, 2, 7, 5]\n",
    "indices = logical_sort(t)\n",
    "indices"
   ]
  },
  {
   "cell_type": "code",
   "execution_count": 22,
   "metadata": {},
   "outputs": [
    {
     "name": "stdout",
     "output_type": "stream",
     "text": [
      "[2, 3, 5, 7, 11, 13]\n"
     ]
    },
    {
     "data": {
      "text/plain": [
       "True"
      ]
     },
     "execution_count": 22,
     "metadata": {},
     "output_type": "execute_result"
    }
   ],
   "source": [
    "# Sprawdźmy, dzy kolejność indeksów odpowiada kolejności posortowanych elementów\n",
    "sorted_t = [t[i] for i in indices]\n",
    "print(sorted_t)\n",
    "sorted_t == sorted(t)"
   ]
  },
  {
   "cell_type": "markdown",
   "metadata": {},
   "source": [
    "# Linked listy"
   ]
  },
  {
   "cell_type": "markdown",
   "metadata": {},
   "source": [
    "### Listy jednokierunkowe"
   ]
  },
  {
   "cell_type": "markdown",
   "metadata": {},
   "source": [
    "Deklaracja węzła"
   ]
  },
  {
   "cell_type": "code",
   "execution_count": 23,
   "metadata": {},
   "outputs": [],
   "source": [
    "class Node:\n",
    "    def __init__(self, val):\n",
    "        self.val = val\n",
    "        self.next = None"
   ]
  },
  {
   "cell_type": "markdown",
   "metadata": {},
   "source": [
    "Wypisywanie listy"
   ]
  },
  {
   "cell_type": "code",
   "execution_count": 24,
   "metadata": {},
   "outputs": [],
   "source": [
    "def print_linked_list(first_node):\n",
    "    curr_node = first_node\n",
    "    print(curr_node.val, end=' ')\n",
    "    while curr_node.next:\n",
    "        curr_node = curr_node.next\n",
    "        print('->', curr_node.val, end=' ')\n",
    "    print()"
   ]
  },
  {
   "cell_type": "markdown",
   "metadata": {},
   "source": [
    "Tworzenie listy odsyłaczowej z podanej sekwencji (jeżeli JEST indeksowalna)"
   ]
  },
  {
   "cell_type": "code",
   "execution_count": 25,
   "metadata": {},
   "outputs": [],
   "source": [
    "def create_linked_list(values):\n",
    "    head = Node(values[0])\n",
    "    curr = head\n",
    "    for i in range(1, len(values)):\n",
    "        curr.next = Node(values[i])\n",
    "        curr = curr.next\n",
    "    return head"
   ]
  },
  {
   "cell_type": "code",
   "execution_count": 26,
   "metadata": {},
   "outputs": [
    {
     "name": "stdout",
     "output_type": "stream",
     "text": [
      "Ala -> ma -> kota \n"
     ]
    }
   ],
   "source": [
    "ll = create_linked_list(['Ala', 'ma', 'kota'])\n",
    "print_linked_list(ll)"
   ]
  },
  {
   "cell_type": "markdown",
   "metadata": {},
   "source": [
    "Tworzenie listy odsyłaczowej z podanej sekwencji (jeżeli NIE JEST indeksowalna)"
   ]
  },
  {
   "cell_type": "code",
   "execution_count": 27,
   "metadata": {},
   "outputs": [],
   "source": [
    "def create_linked_list(values):\n",
    "    values_iterator = iter(values)\n",
    "    head = Node(next(values_iterator))\n",
    "    curr = head\n",
    "    for value in values_iterator:\n",
    "        curr.next = Node(value)\n",
    "        curr = curr.next\n",
    "    return head"
   ]
  },
  {
   "cell_type": "code",
   "execution_count": 28,
   "metadata": {},
   "outputs": [
    {
     "name": "stdout",
     "output_type": "stream",
     "text": [
      "ładnego -> ma -> kota -> Ala \n"
     ]
    }
   ],
   "source": [
    "ll = create_linked_list({'Ala', 'ma', 'ładnego', 'kota'})\n",
    "print_linked_list(ll)"
   ]
  },
  {
   "cell_type": "markdown",
   "metadata": {},
   "source": [
    "Dodawanie wartości na końcu listy odsyłaczowej (niestety nie wolno nam używać wskaźnika na ostatni element, bo nie możemy używać klasy ☹)"
   ]
  },
  {
   "cell_type": "code",
   "execution_count": 29,
   "metadata": {},
   "outputs": [],
   "source": [
    "def append_value(node_ptr, value):\n",
    "    curr = node_ptr\n",
    "    # Traverse to the last element\n",
    "    while curr.next:\n",
    "        curr = curr.next\n",
    "    # Append the next node\n",
    "    curr.next = Node(value)"
   ]
  },
  {
   "cell_type": "code",
   "execution_count": 30,
   "metadata": {},
   "outputs": [
    {
     "name": "stdout",
     "output_type": "stream",
     "text": [
      "0 -> 1 -> 2 -> 3 -> 4 -> 6 -> 7 \n"
     ]
    }
   ],
   "source": [
    "ll = create_linked_list(range(5))  # Używam drugiej funkcji na tworzenie listy odsyłaczowej (argument nie musi być indeksowalny)\n",
    "append_value(ll, 6)\n",
    "append_value(ll.next.next.next, 7)  # Możemy dać wskażnik na dowolny element tej listy odsyłaczowej\n",
    "print_linked_list(ll)"
   ]
  },
  {
   "cell_type": "markdown",
   "metadata": {},
   "source": [
    "Dodawanie wielu wartości na koniec listy odsyłaczowej"
   ]
  },
  {
   "cell_type": "code",
   "execution_count": 31,
   "metadata": {},
   "outputs": [],
   "source": [
    "def append_values(node_ptr, values):\n",
    "    curr = node_ptr\n",
    "    # Traverse to the last element\n",
    "    while curr.next:\n",
    "        curr = curr.next\n",
    "    # Append values\n",
    "    for value in values:\n",
    "        curr.next = Node(value)\n",
    "        curr = curr.next"
   ]
  },
  {
   "cell_type": "code",
   "execution_count": 32,
   "metadata": {},
   "outputs": [
    {
     "name": "stdout",
     "output_type": "stream",
     "text": [
      "0 -> 1 -> 2 -> 3 -> 4 -> 0 -> 3 -> 6 -> 9 \n"
     ]
    }
   ],
   "source": [
    "ll = create_linked_list(range(5))  # Używam drugiej funkcji na tworzenie listy odsyłaczowej (argument nie musi być indeksowalny)\n",
    "append_values(ll, range(0, 10, 3))\n",
    "print_linked_list(ll)"
   ]
  },
  {
   "cell_type": "markdown",
   "metadata": {},
   "source": [
    "Dodawanie wartości na początku listy odsyłaczowej (ze zwracaniem nowej listy)"
   ]
  },
  {
   "cell_type": "code",
   "execution_count": 33,
   "metadata": {},
   "outputs": [],
   "source": [
    "def prepend_value(first_node, value):\n",
    "    new_first = Node(value)\n",
    "    new_first.next = first_node\n",
    "    return new_first"
   ]
  },
  {
   "cell_type": "code",
   "execution_count": 34,
   "metadata": {},
   "outputs": [
    {
     "name": "stdout",
     "output_type": "stream",
     "text": [
      "2 -> 3 -> 4 \n"
     ]
    }
   ],
   "source": [
    "ll = create_linked_list(range(3, 5))  # Używam drugiej funkcji na tworzenie listy odsyłaczowej (argument nie musi być indeksowalny)\n",
    "ll = prepend_value(ll, 2)  # Ponieważ nie możemy korzystać z klas, najłatwiej jest nadpisać wskażnik do drugiego elementu przez pierwszy\n",
    "print_linked_list(ll)"
   ]
  },
  {
   "cell_type": "markdown",
   "metadata": {},
   "source": [
    "Dodawanie wartości na początku listy (z modyfikacją w miejscu)\n",
    "\n",
    "Stosujemy taki trik, że dołączamy za pierwszym węzłem kolejny i przypisujemy mu wartość obecnie\n",
    "pierwszego węzła, a dodanemu na początku, nową wartość"
   ]
  },
  {
   "cell_type": "code",
   "execution_count": 35,
   "metadata": {},
   "outputs": [],
   "source": [
    "def prepend_value(first_node, value):\n",
    "    new_node = Node(first_node.val)\n",
    "    new_node.next = first_node.next\n",
    "    first_node.next = new_node\n",
    "    first_node.val = value"
   ]
  },
  {
   "cell_type": "code",
   "execution_count": 36,
   "metadata": {},
   "outputs": [
    {
     "name": "stdout",
     "output_type": "stream",
     "text": [
      "2 -> 3 -> 4 \n"
     ]
    }
   ],
   "source": [
    "ll = create_linked_list(range(3, 5))  # Używam drugiej funkcji na tworzenie listy odsyłaczowej (argument nie musi być indeksowalny)\n",
    "prepend_value(ll, 2)  # Teraz działa bez tego dziwnego nadpisywania 😉\n",
    "print_linked_list(ll)"
   ]
  },
  {
   "cell_type": "markdown",
   "metadata": {},
   "source": [
    "Dodawanie kilku wartości na początkek listy odsyłaczowej\n",
    "\n",
    "Wykorzystam ten drugi sposób z dodawaniem (modyfikacja w miejscu). Wykorzystuję zadeklarowaną\n",
    "wcześniej funkcję, dodającą element na początek listy."
   ]
  },
  {
   "cell_type": "code",
   "execution_count": 37,
   "metadata": {},
   "outputs": [],
   "source": [
    "def prepend_values(first_node, values):\n",
    "    if len(values) > 1:\n",
    "        values_iterator = iter(values)\n",
    "        # Prepend the first value to be able to add others\n",
    "        prepend_value(first_node, next(values_iterator))\n",
    "        # Create a new sublist of the remaining values given\n",
    "        sub_first = Node(next(values_iterator))\n",
    "        curr = sub_first\n",
    "        for value in values_iterator:\n",
    "            curr.next = Node(value)\n",
    "            curr = curr.next\n",
    "        # Attach current nodes to the created linked list\n",
    "        curr.next = first_node.next\n",
    "        first_node.next = sub_first\n",
    "    else:\n",
    "        prepend_value(first_node, values[0])"
   ]
  },
  {
   "cell_type": "code",
   "execution_count": 38,
   "metadata": {},
   "outputs": [
    {
     "name": "stdout",
     "output_type": "stream",
     "text": [
      "-10 -> -6 -> -2 -> 1 -> 3 -> 4 \n"
     ]
    }
   ],
   "source": [
    "ll = create_linked_list(range(3, 5))  # Używam drugiej funkcji na tworzenie listy odsyłaczowej (argument nie musi być indeksowalny)\n",
    "prepend_values(ll, [1])\n",
    "prepend_values(ll, range(-10, 0, 4))\n",
    "print_linked_list(ll)"
   ]
  },
  {
   "cell_type": "markdown",
   "metadata": {},
   "source": [
    "Usuwanie ostatniego elementu"
   ]
  },
  {
   "cell_type": "code",
   "execution_count": 39,
   "metadata": {},
   "outputs": [],
   "source": [
    "def pop_last(node_ptr):\n",
    "    curr = node_ptr\n",
    "    if not curr.next:\n",
    "        raise KeyError('Cannot remove the last node. There is no next node to the node given.')\n",
    "    # Traverse to the node previous to the last one\n",
    "    while curr.next and curr.next.next:\n",
    "        curr = curr.next\n",
    "    # Remove a pointer to the last node\n",
    "    removed_val = curr.next.val\n",
    "    curr.next = None\n",
    "    return removed_val"
   ]
  },
  {
   "cell_type": "code",
   "execution_count": 40,
   "metadata": {},
   "outputs": [
    {
     "name": "stdout",
     "output_type": "stream",
     "text": [
      "0 -> 1 -> 2 -> 3 -> 4 -> 5 \n",
      "5\n",
      "0 -> 1 -> 2 -> 3 -> 4 \n"
     ]
    }
   ],
   "source": [
    "ll = create_linked_list(range(6))  # Używam drugiej funkcji na tworzenie listy odsyłaczowej (argument nie musi być indeksowalny)\n",
    "print_linked_list(ll)\n",
    "print(pop_last(ll))\n",
    "print_linked_list(ll)"
   ]
  },
  {
   "cell_type": "markdown",
   "metadata": {},
   "source": [
    "Usuwanie pierwszego elementu (poprzez zwracanie nowej listy)"
   ]
  },
  {
   "cell_type": "code",
   "execution_count": 41,
   "metadata": {},
   "outputs": [],
   "source": [
    "def pop_first(first_node):\n",
    "    if not first_node.next:\n",
    "        raise KeyError('Cannot pop the last value in the linked list.')\n",
    "    return first_node.next"
   ]
  },
  {
   "cell_type": "code",
   "execution_count": 42,
   "metadata": {},
   "outputs": [
    {
     "name": "stdout",
     "output_type": "stream",
     "text": [
      "0 -> 1 -> 2 -> 3 -> 4 -> 5 \n",
      "1 -> 2 -> 3 -> 4 -> 5 \n"
     ]
    }
   ],
   "source": [
    "ll = create_linked_list(range(6))  # Używam drugiej funkcji na tworzenie listy odsyłaczowej (argument nie musi być indeksowalny)\n",
    "print_linked_list(ll)\n",
    "ll = pop_first(ll)  # Musimy nadpisać zmienną\n",
    "print_linked_list(ll)\n",
    "\n",
    "# ll2 = create_linked_list([1])\n",
    "# print_linked_list(ll2)\n",
    "# ll2 = pop_first(ll2)  # Musimy nadpisać zmienną\n",
    "# print_linked_list(ll2)"
   ]
  },
  {
   "cell_type": "markdown",
   "metadata": {},
   "source": [
    "Sprytniejsze usuwanie pierwszego elementu (modyfikacja w miejscu)\n",
    "\n",
    "Tak naprawdę usuwamy drugi w kolejności węzeł (zakładam, że nigdy nie można uzyskać pustej listy (bo to nie obiektówka))."
   ]
  },
  {
   "cell_type": "code",
   "execution_count": 43,
   "metadata": {},
   "outputs": [],
   "source": [
    "def pop_first(first_node):\n",
    "    if not first_node.next:\n",
    "        raise KeyError('Cannot pop the last value in the linked list.')\n",
    "    # Assign a value of the second node to the first one and omit the second node\n",
    "    first_node.val = first_node.next.val\n",
    "    first_node.next = first_node.next.next"
   ]
  },
  {
   "cell_type": "code",
   "execution_count": 44,
   "metadata": {},
   "outputs": [
    {
     "name": "stdout",
     "output_type": "stream",
     "text": [
      "0 -> 1 -> 2 -> 3 -> 4 -> 5 \n",
      "1 -> 2 -> 3 -> 4 -> 5 \n"
     ]
    }
   ],
   "source": [
    "ll = create_linked_list(range(6))  # Używam drugiej funkcji na tworzenie listy odsyłaczowej (argument nie musi być indeksowalny)\n",
    "print_linked_list(ll)\n",
    "pop_first(ll)  # Już możemy normalnie używać list 😉\n",
    "print_linked_list(ll)"
   ]
  },
  {
   "cell_type": "markdown",
   "metadata": {},
   "source": [
    "Zwracanie losowego wkaźnika na węzeł listy odsyłaczowej:"
   ]
  },
  {
   "cell_type": "code",
   "execution_count": 45,
   "metadata": {},
   "outputs": [],
   "source": [
    "import random\n",
    "\n",
    "def get_random_ll_ptr(first_node, length):\n",
    "    curr = first_node\n",
    "    for _ in range(random.randint(0, length-1)):\n",
    "        curr = curr.next\n",
    "    return curr"
   ]
  },
  {
   "cell_type": "code",
   "execution_count": 46,
   "metadata": {},
   "outputs": [
    {
     "name": "stdout",
     "output_type": "stream",
     "text": [
      "2\n"
     ]
    }
   ],
   "source": [
    "ll = create_linked_list(range(6))  # Używam drugiej funkcji na tworzenie listy odsyłaczowej (argument nie musi być indeksowalny)\n",
    "print(get_random_ll_ptr(ll, 6).val)"
   ]
  },
  {
   "cell_type": "markdown",
   "metadata": {},
   "source": [
    "Tworzenie cyklicznej listy"
   ]
  },
  {
   "cell_type": "code",
   "execution_count": 47,
   "metadata": {},
   "outputs": [],
   "source": [
    "def create_cycle(values):\n",
    "    # Create a linked list\n",
    "    values_iterator = iter(values)\n",
    "    first_node = Node(next(values_iterator))\n",
    "    curr = first_node\n",
    "    for value in values_iterator:\n",
    "        curr.next = Node(value)\n",
    "        curr = curr.next\n",
    "    # Join the last node to the first one\n",
    "    curr.next = first_node\n",
    "    return first_node"
   ]
  },
  {
   "cell_type": "markdown",
   "metadata": {},
   "source": [
    "Wypisywanie listy cyklicznej"
   ]
  },
  {
   "cell_type": "code",
   "execution_count": 48,
   "metadata": {},
   "outputs": [],
   "source": [
    "def print_cycle(begin_ptr):\n",
    "    curr = begin_ptr\n",
    "    print('(', curr.val, end=' ')\n",
    "    while curr.next is not begin_ptr:\n",
    "        curr = curr.next\n",
    "        print('->', curr.val, end=' ')\n",
    "    print(')')"
   ]
  },
  {
   "cell_type": "code",
   "execution_count": 49,
   "metadata": {},
   "outputs": [
    {
     "name": "stdout",
     "output_type": "stream",
     "text": [
      "( 1 -> 2 -> 3 -> 4 )\n"
     ]
    }
   ],
   "source": [
    "cycle = create_cycle(range(1, 5))\n",
    "print_cycle(cycle)"
   ]
  },
  {
   "cell_type": "markdown",
   "metadata": {},
   "source": [
    "Usuwanie wskazanego przez wskaźnik węzła listy odsyłaczowej (sprytna metoda z przesunięciem wartości) (UWAGA: Działa tylko, jeżeli nie jest to ostatni węzeł)"
   ]
  },
  {
   "cell_type": "code",
   "execution_count": 50,
   "metadata": {},
   "outputs": [],
   "source": [
    "def remove_node(node):\n",
    "    if not node.next:\n",
    "        raise KeyError('Cannot remove the node given. The specified node is the last one of the linked list.')\n",
    "    node.val = node.next.val\n",
    "    node.next = node.next.next"
   ]
  },
  {
   "cell_type": "code",
   "execution_count": 51,
   "metadata": {},
   "outputs": [
    {
     "name": "stdout",
     "output_type": "stream",
     "text": [
      "0 -> 1 -> 2 -> 4 -> 5 \n"
     ]
    }
   ],
   "source": [
    "ll = create_linked_list(range(6))  # Używam drugiej funkcji na tworzenie listy odsyłaczowej (argument nie musi być indeksowalny)\n",
    "node = ll.next.next.next\n",
    "remove_node(node)\n",
    "print_linked_list(ll)\n",
    "\n",
    "# node = ll.next.next.next.next\n",
    "# print(node.val)\n",
    "# remove_node(node)"
   ]
  },
  {
   "cell_type": "markdown",
   "metadata": {},
   "source": [
    "Usuwanie wskazanego węzła z listy cyklicznej (można usunąć dowolny węzeł)"
   ]
  },
  {
   "cell_type": "code",
   "execution_count": 52,
   "metadata": {},
   "outputs": [],
   "source": [
    "def remove_node(cycle, node):\n",
    "    if node is node.next:\n",
    "        raise KeyError('Cannot remove the last one node from a cycle.')\n",
    "    \n",
    "    node.val = node.next.val\n",
    "    if node.next is cycle:  # We cannot omit the first node\n",
    "        first_node = node.next\n",
    "        first_node.val = first_node.next.val\n",
    "        first_node.next = first_node.next.next\n",
    "    else:\n",
    "        node.next = node.next.next"
   ]
  },
  {
   "cell_type": "code",
   "execution_count": 53,
   "metadata": {},
   "outputs": [
    {
     "name": "stdout",
     "output_type": "stream",
     "text": [
      "( 2 -> 5 -> 8 )\n",
      "8\n",
      "( 5 -> 2 )\n",
      "( 2 )\n"
     ]
    }
   ],
   "source": [
    "cycle = create_cycle(range(2, 10, 3))\n",
    "print_cycle(cycle)\n",
    "node = cycle.next.next\n",
    "print(node.val)\n",
    "remove_node(cycle, node)\n",
    "print_cycle(cycle)\n",
    "\n",
    "remove_node(cycle, cycle) # This removes the first node\n",
    "print_cycle(cycle)\n",
    "\n",
    "# remove_node(cycle, cycle)"
   ]
  },
  {
   "cell_type": "markdown",
   "metadata": {},
   "source": [
    "Odwracanie kolejności elementów (z użyciem listy tymczasowej)"
   ]
  },
  {
   "cell_type": "code",
   "execution_count": 65,
   "metadata": {},
   "outputs": [],
   "source": [
    "def reverse_linked_list(first_node):\n",
    "    values = []\n",
    "    curr = first_node\n",
    "    while curr:\n",
    "        values.append(curr.val)\n",
    "        curr = curr.next\n",
    "    \n",
    "    curr = first_node\n",
    "    for i in range(len(values)-1, -1, -1):\n",
    "        curr.val = values[i]\n",
    "        curr = curr.next"
   ]
  },
  {
   "cell_type": "code",
   "execution_count": 66,
   "metadata": {},
   "outputs": [
    {
     "name": "stdout",
     "output_type": "stream",
     "text": [
      "0 -> 1 -> 2 -> 3 -> 4 \n",
      "4 -> 3 -> 2 -> 1 -> 0 \n"
     ]
    }
   ],
   "source": [
    "ll = create_linked_list(range(5))\n",
    "print_linked_list(ll)\n",
    "reverse_linked_list(ll)\n",
    "print_linked_list(ll)"
   ]
  },
  {
   "cell_type": "markdown",
   "metadata": {},
   "source": [
    "Odwracanie kolejności elementów (bez używania innych tymczasowych struktur danych)"
   ]
  },
  {
   "cell_type": "code",
   "execution_count": 67,
   "metadata": {},
   "outputs": [],
   "source": [
    "def reverse_linked_list(first_node):\n",
    "    if first_node and first_node.next:\n",
    "        curr_node = first_node\n",
    "        next_node = curr_node.next\n",
    "        tail = curr_node\n",
    "        tail.next = None\n",
    "        while next_node:\n",
    "            temp = next_node.next\n",
    "            next_node.next = curr_node\n",
    "            curr_node = next_node\n",
    "            next_node = temp\n",
    "        first_node = curr_node\n",
    "    return first_node"
   ]
  },
  {
   "cell_type": "code",
   "execution_count": 75,
   "metadata": {},
   "outputs": [
    {
     "name": "stdout",
     "output_type": "stream",
     "text": [
      "0 -> 1 -> 2 -> 3 -> 4 \n",
      "4 -> 3 -> 2 -> 1 -> 0 \n"
     ]
    }
   ],
   "source": [
    "bll = create_linked_list(range(6))\n",
    "print_linked_list(ll)\n",
    "ll = reverse_linked_list(ll)\n",
    "print_linked_list(ll)"
   ]
  }
 ],
 "metadata": {
  "kernelspec": {
   "display_name": "Python 3 (ipykernel)",
   "language": "python",
   "name": "python3"
  },
  "language_info": {
   "codemirror_mode": {
    "name": "ipython",
    "version": 3
   },
   "file_extension": ".py",
   "mimetype": "text/x-python",
   "name": "python",
   "nbconvert_exporter": "python",
   "pygments_lexer": "ipython3",
   "version": "3.9.7"
  }
 },
 "nbformat": 4,
 "nbformat_minor": 4
}
